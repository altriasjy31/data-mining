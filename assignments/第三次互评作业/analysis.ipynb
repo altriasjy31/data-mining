{
 "cells": [
  {
   "cell_type": "code",
   "execution_count": 1,
   "metadata": {},
   "outputs": [
    {
     "output_type": "execute_result",
     "data": {
      "text/plain": "                                                   Name Platform    Year  \\\n0                                            Wii Sports      Wii  2006.0   \n1                                     Super Mario Bros.      NES  1985.0   \n2                                        Mario Kart Wii      Wii  2008.0   \n3                                     Wii Sports Resort      Wii  2009.0   \n4                              Pokemon Red/Pokemon Blue       GB  1996.0   \n...                                                 ...      ...     ...   \n16593                Woody Woodpecker in Crazy Castle 5      GBA  2002.0   \n16594                     Men in Black II: Alien Escape       GC  2003.0   \n16595  SCORE International Baja 1000: The Official Game      PS2  2008.0   \n16596                                        Know How 2       DS  2010.0   \n16597                                  Spirits & Spells      GBA  2003.0   \n\n              Genre   Publisher  NA_Sales  EU_Sales  JP_Sales  Other_Sales  \\\n0            Sports    Nintendo     41.49     29.02      3.77         8.46   \n1          Platform    Nintendo     29.08      3.58      6.81         0.77   \n2            Racing    Nintendo     15.85     12.88      3.79         3.31   \n3            Sports    Nintendo     15.75     11.01      3.28         2.96   \n4      Role-Playing    Nintendo     11.27      8.89     10.22         1.00   \n...             ...         ...       ...       ...       ...          ...   \n16593      Platform       Kemco      0.01      0.00      0.00         0.00   \n16594       Shooter  Infogrames      0.01      0.00      0.00         0.00   \n16595        Racing  Activision      0.00      0.00      0.00         0.00   \n16596        Puzzle    7G//AMES      0.00      0.01      0.00         0.00   \n16597      Platform     Wanadoo      0.01      0.00      0.00         0.00   \n\n       Global_Sales  \n0             82.74  \n1             40.24  \n2             35.82  \n3             33.00  \n4             31.37  \n...             ...  \n16593          0.01  \n16594          0.01  \n16595          0.01  \n16596          0.01  \n16597          0.01  \n\n[16598 rows x 10 columns]",
      "text/html": "<div>\n<style scoped>\n    .dataframe tbody tr th:only-of-type {\n        vertical-align: middle;\n    }\n\n    .dataframe tbody tr th {\n        vertical-align: top;\n    }\n\n    .dataframe thead th {\n        text-align: right;\n    }\n</style>\n<table border=\"1\" class=\"dataframe\">\n  <thead>\n    <tr style=\"text-align: right;\">\n      <th></th>\n      <th>Name</th>\n      <th>Platform</th>\n      <th>Year</th>\n      <th>Genre</th>\n      <th>Publisher</th>\n      <th>NA_Sales</th>\n      <th>EU_Sales</th>\n      <th>JP_Sales</th>\n      <th>Other_Sales</th>\n      <th>Global_Sales</th>\n    </tr>\n  </thead>\n  <tbody>\n    <tr>\n      <th>0</th>\n      <td>Wii Sports</td>\n      <td>Wii</td>\n      <td>2006.0</td>\n      <td>Sports</td>\n      <td>Nintendo</td>\n      <td>41.49</td>\n      <td>29.02</td>\n      <td>3.77</td>\n      <td>8.46</td>\n      <td>82.74</td>\n    </tr>\n    <tr>\n      <th>1</th>\n      <td>Super Mario Bros.</td>\n      <td>NES</td>\n      <td>1985.0</td>\n      <td>Platform</td>\n      <td>Nintendo</td>\n      <td>29.08</td>\n      <td>3.58</td>\n      <td>6.81</td>\n      <td>0.77</td>\n      <td>40.24</td>\n    </tr>\n    <tr>\n      <th>2</th>\n      <td>Mario Kart Wii</td>\n      <td>Wii</td>\n      <td>2008.0</td>\n      <td>Racing</td>\n      <td>Nintendo</td>\n      <td>15.85</td>\n      <td>12.88</td>\n      <td>3.79</td>\n      <td>3.31</td>\n      <td>35.82</td>\n    </tr>\n    <tr>\n      <th>3</th>\n      <td>Wii Sports Resort</td>\n      <td>Wii</td>\n      <td>2009.0</td>\n      <td>Sports</td>\n      <td>Nintendo</td>\n      <td>15.75</td>\n      <td>11.01</td>\n      <td>3.28</td>\n      <td>2.96</td>\n      <td>33.00</td>\n    </tr>\n    <tr>\n      <th>4</th>\n      <td>Pokemon Red/Pokemon Blue</td>\n      <td>GB</td>\n      <td>1996.0</td>\n      <td>Role-Playing</td>\n      <td>Nintendo</td>\n      <td>11.27</td>\n      <td>8.89</td>\n      <td>10.22</td>\n      <td>1.00</td>\n      <td>31.37</td>\n    </tr>\n    <tr>\n      <th>...</th>\n      <td>...</td>\n      <td>...</td>\n      <td>...</td>\n      <td>...</td>\n      <td>...</td>\n      <td>...</td>\n      <td>...</td>\n      <td>...</td>\n      <td>...</td>\n      <td>...</td>\n    </tr>\n    <tr>\n      <th>16593</th>\n      <td>Woody Woodpecker in Crazy Castle 5</td>\n      <td>GBA</td>\n      <td>2002.0</td>\n      <td>Platform</td>\n      <td>Kemco</td>\n      <td>0.01</td>\n      <td>0.00</td>\n      <td>0.00</td>\n      <td>0.00</td>\n      <td>0.01</td>\n    </tr>\n    <tr>\n      <th>16594</th>\n      <td>Men in Black II: Alien Escape</td>\n      <td>GC</td>\n      <td>2003.0</td>\n      <td>Shooter</td>\n      <td>Infogrames</td>\n      <td>0.01</td>\n      <td>0.00</td>\n      <td>0.00</td>\n      <td>0.00</td>\n      <td>0.01</td>\n    </tr>\n    <tr>\n      <th>16595</th>\n      <td>SCORE International Baja 1000: The Official Game</td>\n      <td>PS2</td>\n      <td>2008.0</td>\n      <td>Racing</td>\n      <td>Activision</td>\n      <td>0.00</td>\n      <td>0.00</td>\n      <td>0.00</td>\n      <td>0.00</td>\n      <td>0.01</td>\n    </tr>\n    <tr>\n      <th>16596</th>\n      <td>Know How 2</td>\n      <td>DS</td>\n      <td>2010.0</td>\n      <td>Puzzle</td>\n      <td>7G//AMES</td>\n      <td>0.00</td>\n      <td>0.01</td>\n      <td>0.00</td>\n      <td>0.00</td>\n      <td>0.01</td>\n    </tr>\n    <tr>\n      <th>16597</th>\n      <td>Spirits &amp; Spells</td>\n      <td>GBA</td>\n      <td>2003.0</td>\n      <td>Platform</td>\n      <td>Wanadoo</td>\n      <td>0.01</td>\n      <td>0.00</td>\n      <td>0.00</td>\n      <td>0.00</td>\n      <td>0.01</td>\n    </tr>\n  </tbody>\n</table>\n<p>16598 rows × 10 columns</p>\n</div>"
     },
     "metadata": {},
     "execution_count": 1
    }
   ],
   "source": [
    "import pandas as pd\n",
    "import numpy as np\n",
    "from mlxtend import preprocessing as pp\n",
    "from mlxtend import frequent_patterns as fp\n",
    "\n",
    "vgData_path = \"D:\\\\文档\\\\grd\\\\course\\\\数据挖掘\\\\assignments\\\\06\\\\284_618_bundle_archive\\\\vgsales.csv\"\n",
    "vgData = pd.read_csv(vgData_path)\n",
    "\n",
    "vgData = vgData.iloc[:,1:]\n",
    "vgData"
   ]
  },
  {
   "cell_type": "code",
   "execution_count": 2,
   "metadata": {},
   "outputs": [
    {
     "output_type": "execute_result",
     "data": {
      "text/plain": "                       Name Platform    Year         Genre Publisher\n0                Wii Sports      Wii  2006.0        Sports  Nintendo\n1         Super Mario Bros.      NES  1985.0      Platform  Nintendo\n2            Mario Kart Wii      Wii  2008.0        Racing  Nintendo\n3         Wii Sports Resort      Wii  2009.0        Sports  Nintendo\n4  Pokemon Red/Pokemon Blue       GB  1996.0  Role-Playing  Nintendo",
      "text/html": "<div>\n<style scoped>\n    .dataframe tbody tr th:only-of-type {\n        vertical-align: middle;\n    }\n\n    .dataframe tbody tr th {\n        vertical-align: top;\n    }\n\n    .dataframe thead th {\n        text-align: right;\n    }\n</style>\n<table border=\"1\" class=\"dataframe\">\n  <thead>\n    <tr style=\"text-align: right;\">\n      <th></th>\n      <th>Name</th>\n      <th>Platform</th>\n      <th>Year</th>\n      <th>Genre</th>\n      <th>Publisher</th>\n    </tr>\n  </thead>\n  <tbody>\n    <tr>\n      <th>0</th>\n      <td>Wii Sports</td>\n      <td>Wii</td>\n      <td>2006.0</td>\n      <td>Sports</td>\n      <td>Nintendo</td>\n    </tr>\n    <tr>\n      <th>1</th>\n      <td>Super Mario Bros.</td>\n      <td>NES</td>\n      <td>1985.0</td>\n      <td>Platform</td>\n      <td>Nintendo</td>\n    </tr>\n    <tr>\n      <th>2</th>\n      <td>Mario Kart Wii</td>\n      <td>Wii</td>\n      <td>2008.0</td>\n      <td>Racing</td>\n      <td>Nintendo</td>\n    </tr>\n    <tr>\n      <th>3</th>\n      <td>Wii Sports Resort</td>\n      <td>Wii</td>\n      <td>2009.0</td>\n      <td>Sports</td>\n      <td>Nintendo</td>\n    </tr>\n    <tr>\n      <th>4</th>\n      <td>Pokemon Red/Pokemon Blue</td>\n      <td>GB</td>\n      <td>1996.0</td>\n      <td>Role-Playing</td>\n      <td>Nintendo</td>\n    </tr>\n  </tbody>\n</table>\n</div>"
     },
     "metadata": {},
     "execution_count": 2
    }
   ],
   "source": [
    "#对Name, Platform, Year, Genre, Publisher进行关联规则挖掘\n",
    "vgSub = vgData.iloc[:,0:5]\n",
    "vgSub.head()"
   ]
  },
  {
   "cell_type": "code",
   "execution_count": 3,
   "metadata": {},
   "outputs": [
    {
     "output_type": "execute_result",
     "data": {
      "text/plain": "[['Wii Sports', 'Wii', '2006.0', 'Sports', 'Nintendo'],\n ['Super Mario Bros.', 'NES', '1985.0', 'Platform', 'Nintendo'],\n ['Mario Kart Wii', 'Wii', '2008.0', 'Racing', 'Nintendo'],\n ['Wii Sports Resort', 'Wii', '2009.0', 'Sports', 'Nintendo'],\n ['Pokemon Red/Pokemon Blue', 'GB', '1996.0', 'Role-Playing', 'Nintendo'],\n ['Tetris', 'GB', '1989.0', 'Puzzle', 'Nintendo'],\n ['New Super Mario Bros.', 'DS', '2006.0', 'Platform', 'Nintendo'],\n ['Wii Play', 'Wii', '2006.0', 'Misc', 'Nintendo'],\n ['New Super Mario Bros. Wii', 'Wii', '2009.0', 'Platform', 'Nintendo'],\n ['Duck Hunt', 'NES', '1984.0', 'Shooter', 'Nintendo']]"
     },
     "metadata": {},
     "execution_count": 3
    }
   ],
   "source": [
    "vgs_ll = vgSub.to_numpy().astype(\"str\").tolist()\n",
    "vgs_ll[:10]\n"
   ]
  },
  {
   "cell_type": "code",
   "execution_count": 4,
   "metadata": {},
   "outputs": [
    {
     "output_type": "execute_result",
     "data": {
      "text/plain": "   '98 Koshien  .hack//G.U. Vol.1//Rebirth  .hack//G.U. Vol.2//Reminisce  \\\n0        False                       False                         False   \n1        False                       False                         False   \n2        False                       False                         False   \n3        False                       False                         False   \n4        False                       False                         False   \n\n   .hack//G.U. Vol.2//Reminisce (jp sales)  .hack//G.U. Vol.3//Redemption  \\\n0                                    False                          False   \n1                                    False                          False   \n2                                    False                          False   \n3                                    False                          False   \n4                                    False                          False   \n\n   .hack//Infection Part 1  .hack//Link  .hack//Mutation Part 2  \\\n0                    False        False                   False   \n1                    False        False                   False   \n2                    False        False                   False   \n3                    False        False                   False   \n4                    False        False                   False   \n\n   .hack//Outbreak Part 3  .hack//Quarantine Part 4: The Final Chapter  ...  \\\n0                   False                                        False  ...   \n1                   False                                        False  ...   \n2                   False                                        False  ...   \n3                   False                                        False  ...   \n4                   False                                        False  ...   \n\n   pro evolution soccer 2011  responDESIGN  th!nk Logic Trainer  thinkSMART  \\\n0                      False         False                False       False   \n1                      False         False                False       False   \n2                      False         False                False       False   \n3                      False         False                False       False   \n4                      False         False                False       False   \n\n   thinkSMART FAMILY!  thinkSMART: Chess for Kids  uDraw Studio  \\\n0               False                       False         False   \n1               False                       False         False   \n2               False                       False         False   \n3               False                       False         False   \n4               False                       False         False   \n\n   uDraw Studio: Instant Artist  wwe Smackdown vs. Raw 2006  \\\n0                         False                       False   \n1                         False                       False   \n2                         False                       False   \n3                         False                       False   \n4                         False                       False   \n\n   ¡Shin Chan Flipa en colores!  \n0                         False  \n1                         False  \n2                         False  \n3                         False  \n4                         False  \n\n[5 rows x 12152 columns]",
      "text/html": "<div>\n<style scoped>\n    .dataframe tbody tr th:only-of-type {\n        vertical-align: middle;\n    }\n\n    .dataframe tbody tr th {\n        vertical-align: top;\n    }\n\n    .dataframe thead th {\n        text-align: right;\n    }\n</style>\n<table border=\"1\" class=\"dataframe\">\n  <thead>\n    <tr style=\"text-align: right;\">\n      <th></th>\n      <th>'98 Koshien</th>\n      <th>.hack//G.U. Vol.1//Rebirth</th>\n      <th>.hack//G.U. Vol.2//Reminisce</th>\n      <th>.hack//G.U. Vol.2//Reminisce (jp sales)</th>\n      <th>.hack//G.U. Vol.3//Redemption</th>\n      <th>.hack//Infection Part 1</th>\n      <th>.hack//Link</th>\n      <th>.hack//Mutation Part 2</th>\n      <th>.hack//Outbreak Part 3</th>\n      <th>.hack//Quarantine Part 4: The Final Chapter</th>\n      <th>...</th>\n      <th>pro evolution soccer 2011</th>\n      <th>responDESIGN</th>\n      <th>th!nk Logic Trainer</th>\n      <th>thinkSMART</th>\n      <th>thinkSMART FAMILY!</th>\n      <th>thinkSMART: Chess for Kids</th>\n      <th>uDraw Studio</th>\n      <th>uDraw Studio: Instant Artist</th>\n      <th>wwe Smackdown vs. Raw 2006</th>\n      <th>¡Shin Chan Flipa en colores!</th>\n    </tr>\n  </thead>\n  <tbody>\n    <tr>\n      <th>0</th>\n      <td>False</td>\n      <td>False</td>\n      <td>False</td>\n      <td>False</td>\n      <td>False</td>\n      <td>False</td>\n      <td>False</td>\n      <td>False</td>\n      <td>False</td>\n      <td>False</td>\n      <td>...</td>\n      <td>False</td>\n      <td>False</td>\n      <td>False</td>\n      <td>False</td>\n      <td>False</td>\n      <td>False</td>\n      <td>False</td>\n      <td>False</td>\n      <td>False</td>\n      <td>False</td>\n    </tr>\n    <tr>\n      <th>1</th>\n      <td>False</td>\n      <td>False</td>\n      <td>False</td>\n      <td>False</td>\n      <td>False</td>\n      <td>False</td>\n      <td>False</td>\n      <td>False</td>\n      <td>False</td>\n      <td>False</td>\n      <td>...</td>\n      <td>False</td>\n      <td>False</td>\n      <td>False</td>\n      <td>False</td>\n      <td>False</td>\n      <td>False</td>\n      <td>False</td>\n      <td>False</td>\n      <td>False</td>\n      <td>False</td>\n    </tr>\n    <tr>\n      <th>2</th>\n      <td>False</td>\n      <td>False</td>\n      <td>False</td>\n      <td>False</td>\n      <td>False</td>\n      <td>False</td>\n      <td>False</td>\n      <td>False</td>\n      <td>False</td>\n      <td>False</td>\n      <td>...</td>\n      <td>False</td>\n      <td>False</td>\n      <td>False</td>\n      <td>False</td>\n      <td>False</td>\n      <td>False</td>\n      <td>False</td>\n      <td>False</td>\n      <td>False</td>\n      <td>False</td>\n    </tr>\n    <tr>\n      <th>3</th>\n      <td>False</td>\n      <td>False</td>\n      <td>False</td>\n      <td>False</td>\n      <td>False</td>\n      <td>False</td>\n      <td>False</td>\n      <td>False</td>\n      <td>False</td>\n      <td>False</td>\n      <td>...</td>\n      <td>False</td>\n      <td>False</td>\n      <td>False</td>\n      <td>False</td>\n      <td>False</td>\n      <td>False</td>\n      <td>False</td>\n      <td>False</td>\n      <td>False</td>\n      <td>False</td>\n    </tr>\n    <tr>\n      <th>4</th>\n      <td>False</td>\n      <td>False</td>\n      <td>False</td>\n      <td>False</td>\n      <td>False</td>\n      <td>False</td>\n      <td>False</td>\n      <td>False</td>\n      <td>False</td>\n      <td>False</td>\n      <td>...</td>\n      <td>False</td>\n      <td>False</td>\n      <td>False</td>\n      <td>False</td>\n      <td>False</td>\n      <td>False</td>\n      <td>False</td>\n      <td>False</td>\n      <td>False</td>\n      <td>False</td>\n    </tr>\n  </tbody>\n</table>\n<p>5 rows × 12152 columns</p>\n</div>"
     },
     "metadata": {},
     "execution_count": 4
    }
   ],
   "source": [
    "te = pp.TransactionEncoder()\n",
    "te_nd = te.fit(vgs_ll).transform(vgs_ll)\n",
    "te_df = pd.DataFrame(te_nd, columns=te.columns_)\n",
    "te_df.head()"
   ]
  },
  {
   "cell_type": "code",
   "execution_count": 5,
   "metadata": {},
   "outputs": [
    {
     "output_type": "execute_result",
     "data": {
      "text/plain": "      support                                     itemsets\n0    0.003615                                     (1993.0)\n1    0.007290                                     (1994.0)\n2    0.013194                                     (1995.0)\n3    0.015845                                     (1996.0)\n4    0.017412                                     (1997.0)\n..        ...                                          ...\n657  0.003856               (Electronic Arts, Sports, PS3)\n658  0.004458              (Electronic Arts, Sports, X360)\n659  0.003675                (Electronic Arts, Sports, XB)\n660  0.003916  (Sports, PS2, Konami Digital Entertainment)\n661  0.003133     (Sony Computer Entertainment, PS2, Misc)\n\n[662 rows x 2 columns]",
      "text/html": "<div>\n<style scoped>\n    .dataframe tbody tr th:only-of-type {\n        vertical-align: middle;\n    }\n\n    .dataframe tbody tr th {\n        vertical-align: top;\n    }\n\n    .dataframe thead th {\n        text-align: right;\n    }\n</style>\n<table border=\"1\" class=\"dataframe\">\n  <thead>\n    <tr style=\"text-align: right;\">\n      <th></th>\n      <th>support</th>\n      <th>itemsets</th>\n    </tr>\n  </thead>\n  <tbody>\n    <tr>\n      <th>0</th>\n      <td>0.003615</td>\n      <td>(1993.0)</td>\n    </tr>\n    <tr>\n      <th>1</th>\n      <td>0.007290</td>\n      <td>(1994.0)</td>\n    </tr>\n    <tr>\n      <th>2</th>\n      <td>0.013194</td>\n      <td>(1995.0)</td>\n    </tr>\n    <tr>\n      <th>3</th>\n      <td>0.015845</td>\n      <td>(1996.0)</td>\n    </tr>\n    <tr>\n      <th>4</th>\n      <td>0.017412</td>\n      <td>(1997.0)</td>\n    </tr>\n    <tr>\n      <th>...</th>\n      <td>...</td>\n      <td>...</td>\n    </tr>\n    <tr>\n      <th>657</th>\n      <td>0.003856</td>\n      <td>(Electronic Arts, Sports, PS3)</td>\n    </tr>\n    <tr>\n      <th>658</th>\n      <td>0.004458</td>\n      <td>(Electronic Arts, Sports, X360)</td>\n    </tr>\n    <tr>\n      <th>659</th>\n      <td>0.003675</td>\n      <td>(Electronic Arts, Sports, XB)</td>\n    </tr>\n    <tr>\n      <th>660</th>\n      <td>0.003916</td>\n      <td>(Sports, PS2, Konami Digital Entertainment)</td>\n    </tr>\n    <tr>\n      <th>661</th>\n      <td>0.003133</td>\n      <td>(Sony Computer Entertainment, PS2, Misc)</td>\n    </tr>\n  </tbody>\n</table>\n<p>662 rows × 2 columns</p>\n</div>"
     },
     "metadata": {},
     "execution_count": 5
    }
   ],
   "source": [
    "frequent_itemset = fp.apriori(te_df, min_support=0.003, use_colnames=True)\n",
    "frequent_itemset.loc[:5]\n",
    "frequent_itemset.loc[-6:]"
   ]
  },
  {
   "cell_type": "code",
   "execution_count": 6,
   "metadata": {},
   "outputs": [
    {
     "output_type": "execute_result",
     "data": {
      "text/plain": "                              antecedents  \\\n0                                (1994.0)   \n1                                  (SNES)   \n2                                    (PS)   \n3                                (1995.0)   \n4                                   (SAT)   \n...                                   ...   \n1267  (Sony Computer Entertainment, Misc)   \n1268                          (PS2, Misc)   \n1269        (Sony Computer Entertainment)   \n1270                                (PS2)   \n1271                               (Misc)   \n\n                              consequents  antecedent support  \\\n0                                  (SNES)            0.007290   \n1                                (1994.0)            0.014399   \n2                                (1995.0)            0.072057   \n3                                    (PS)            0.013194   \n4                                (1995.0)            0.010423   \n...                                   ...                 ...   \n1267                                (PS2)            0.007712   \n1268        (Sony Computer Entertainment)            0.013375   \n1269                          (PS2, Misc)            0.041150   \n1270  (Sony Computer Entertainment, Misc)            0.130196   \n1271   (Sony Computer Entertainment, PS2)            0.104772   \n\n      consequent support   support  confidence       lift  leverage  \\\n0               0.014399  0.003193    0.438017  30.419240  0.003088   \n1               0.007290  0.003193    0.221757  30.419240  0.003088   \n2               0.013194  0.005965    0.082776   6.273583  0.005014   \n3               0.072057  0.005965    0.452055   6.273583  0.005014   \n4               0.013194  0.003133    0.300578  22.780796  0.002995   \n...                  ...       ...         ...        ...       ...   \n1267            0.130196  0.003133    0.406250   3.120286  0.002129   \n1268            0.041150  0.003133    0.234234   5.692269  0.002583   \n1269            0.013375  0.003133    0.076135   5.692269  0.002583   \n1270            0.007712  0.003133    0.024063   3.120286  0.002129   \n1271            0.012291  0.003133    0.029902   2.432929  0.001845   \n\n      conviction  \n0       1.753789  \n1       1.275579  \n2       1.075861  \n3       1.693496  \n4       1.410887  \n...          ...  \n1267    1.464932  \n1268    1.252146  \n1269    1.067932  \n1270    1.016754  \n1271    1.018154  \n\n[1272 rows x 9 columns]",
      "text/html": "<div>\n<style scoped>\n    .dataframe tbody tr th:only-of-type {\n        vertical-align: middle;\n    }\n\n    .dataframe tbody tr th {\n        vertical-align: top;\n    }\n\n    .dataframe thead th {\n        text-align: right;\n    }\n</style>\n<table border=\"1\" class=\"dataframe\">\n  <thead>\n    <tr style=\"text-align: right;\">\n      <th></th>\n      <th>antecedents</th>\n      <th>consequents</th>\n      <th>antecedent support</th>\n      <th>consequent support</th>\n      <th>support</th>\n      <th>confidence</th>\n      <th>lift</th>\n      <th>leverage</th>\n      <th>conviction</th>\n    </tr>\n  </thead>\n  <tbody>\n    <tr>\n      <th>0</th>\n      <td>(1994.0)</td>\n      <td>(SNES)</td>\n      <td>0.007290</td>\n      <td>0.014399</td>\n      <td>0.003193</td>\n      <td>0.438017</td>\n      <td>30.419240</td>\n      <td>0.003088</td>\n      <td>1.753789</td>\n    </tr>\n    <tr>\n      <th>1</th>\n      <td>(SNES)</td>\n      <td>(1994.0)</td>\n      <td>0.014399</td>\n      <td>0.007290</td>\n      <td>0.003193</td>\n      <td>0.221757</td>\n      <td>30.419240</td>\n      <td>0.003088</td>\n      <td>1.275579</td>\n    </tr>\n    <tr>\n      <th>2</th>\n      <td>(PS)</td>\n      <td>(1995.0)</td>\n      <td>0.072057</td>\n      <td>0.013194</td>\n      <td>0.005965</td>\n      <td>0.082776</td>\n      <td>6.273583</td>\n      <td>0.005014</td>\n      <td>1.075861</td>\n    </tr>\n    <tr>\n      <th>3</th>\n      <td>(1995.0)</td>\n      <td>(PS)</td>\n      <td>0.013194</td>\n      <td>0.072057</td>\n      <td>0.005965</td>\n      <td>0.452055</td>\n      <td>6.273583</td>\n      <td>0.005014</td>\n      <td>1.693496</td>\n    </tr>\n    <tr>\n      <th>4</th>\n      <td>(SAT)</td>\n      <td>(1995.0)</td>\n      <td>0.010423</td>\n      <td>0.013194</td>\n      <td>0.003133</td>\n      <td>0.300578</td>\n      <td>22.780796</td>\n      <td>0.002995</td>\n      <td>1.410887</td>\n    </tr>\n    <tr>\n      <th>...</th>\n      <td>...</td>\n      <td>...</td>\n      <td>...</td>\n      <td>...</td>\n      <td>...</td>\n      <td>...</td>\n      <td>...</td>\n      <td>...</td>\n      <td>...</td>\n    </tr>\n    <tr>\n      <th>1267</th>\n      <td>(Sony Computer Entertainment, Misc)</td>\n      <td>(PS2)</td>\n      <td>0.007712</td>\n      <td>0.130196</td>\n      <td>0.003133</td>\n      <td>0.406250</td>\n      <td>3.120286</td>\n      <td>0.002129</td>\n      <td>1.464932</td>\n    </tr>\n    <tr>\n      <th>1268</th>\n      <td>(PS2, Misc)</td>\n      <td>(Sony Computer Entertainment)</td>\n      <td>0.013375</td>\n      <td>0.041150</td>\n      <td>0.003133</td>\n      <td>0.234234</td>\n      <td>5.692269</td>\n      <td>0.002583</td>\n      <td>1.252146</td>\n    </tr>\n    <tr>\n      <th>1269</th>\n      <td>(Sony Computer Entertainment)</td>\n      <td>(PS2, Misc)</td>\n      <td>0.041150</td>\n      <td>0.013375</td>\n      <td>0.003133</td>\n      <td>0.076135</td>\n      <td>5.692269</td>\n      <td>0.002583</td>\n      <td>1.067932</td>\n    </tr>\n    <tr>\n      <th>1270</th>\n      <td>(PS2)</td>\n      <td>(Sony Computer Entertainment, Misc)</td>\n      <td>0.130196</td>\n      <td>0.007712</td>\n      <td>0.003133</td>\n      <td>0.024063</td>\n      <td>3.120286</td>\n      <td>0.002129</td>\n      <td>1.016754</td>\n    </tr>\n    <tr>\n      <th>1271</th>\n      <td>(Misc)</td>\n      <td>(Sony Computer Entertainment, PS2)</td>\n      <td>0.104772</td>\n      <td>0.012291</td>\n      <td>0.003133</td>\n      <td>0.029902</td>\n      <td>2.432929</td>\n      <td>0.001845</td>\n      <td>1.018154</td>\n    </tr>\n  </tbody>\n</table>\n<p>1272 rows × 9 columns</p>\n</div>"
     },
     "metadata": {},
     "execution_count": 6
    }
   ],
   "source": [
    "#lift\n",
    "as_rules = fp.association_rules(frequent_itemset,metric=\"lift\",min_threshold=0.1)\n",
    "as_rules.loc[:5]\n",
    "as_rules.loc[-6:]"
   ]
  },
  {
   "cell_type": "code",
   "execution_count": 7,
   "metadata": {},
   "outputs": [
    {
     "output_type": "execute_result",
     "data": {
      "text/plain": "        Name Platform    Year Genre Publisher  NA_Sales  EU_Sales  JP_Sales  \\\n0      11007       26  2006.0    10       359     41.49     29.02      3.77   \n1       9327       11  1985.0     4       359     29.08      3.58      6.81   \n2       5573       26  2008.0     6       359     15.85     12.88      3.79   \n3      11009       26  2009.0    10       359     15.75     11.01      3.28   \n4       7346        5  1996.0     7       359     11.27      8.89     10.22   \n...      ...      ...     ...   ...       ...       ...       ...       ...   \n16593  11101        6  2002.0     4       269      0.01      0.00      0.00   \n16594   5796        7  2003.0     8       241      0.01      0.00      0.00   \n16595   8144       16  2008.0     6        21      0.00      0.00      0.00   \n16596   5014        4  2010.0     5         8      0.00      0.01      0.00   \n16597   8967        6  2003.0     4       546      0.01      0.00      0.00   \n\n       Other_Sales  Global_Sales  \n0             8.46         82.74  \n1             0.77         40.24  \n2             3.31         35.82  \n3             2.96         33.00  \n4             1.00         31.37  \n...            ...           ...  \n16593         0.00          0.01  \n16594         0.00          0.01  \n16595         0.00          0.01  \n16596         0.00          0.01  \n16597         0.00          0.01  \n\n[16598 rows x 10 columns]",
      "text/html": "<div>\n<style scoped>\n    .dataframe tbody tr th:only-of-type {\n        vertical-align: middle;\n    }\n\n    .dataframe tbody tr th {\n        vertical-align: top;\n    }\n\n    .dataframe thead th {\n        text-align: right;\n    }\n</style>\n<table border=\"1\" class=\"dataframe\">\n  <thead>\n    <tr style=\"text-align: right;\">\n      <th></th>\n      <th>Name</th>\n      <th>Platform</th>\n      <th>Year</th>\n      <th>Genre</th>\n      <th>Publisher</th>\n      <th>NA_Sales</th>\n      <th>EU_Sales</th>\n      <th>JP_Sales</th>\n      <th>Other_Sales</th>\n      <th>Global_Sales</th>\n    </tr>\n  </thead>\n  <tbody>\n    <tr>\n      <th>0</th>\n      <td>11007</td>\n      <td>26</td>\n      <td>2006.0</td>\n      <td>10</td>\n      <td>359</td>\n      <td>41.49</td>\n      <td>29.02</td>\n      <td>3.77</td>\n      <td>8.46</td>\n      <td>82.74</td>\n    </tr>\n    <tr>\n      <th>1</th>\n      <td>9327</td>\n      <td>11</td>\n      <td>1985.0</td>\n      <td>4</td>\n      <td>359</td>\n      <td>29.08</td>\n      <td>3.58</td>\n      <td>6.81</td>\n      <td>0.77</td>\n      <td>40.24</td>\n    </tr>\n    <tr>\n      <th>2</th>\n      <td>5573</td>\n      <td>26</td>\n      <td>2008.0</td>\n      <td>6</td>\n      <td>359</td>\n      <td>15.85</td>\n      <td>12.88</td>\n      <td>3.79</td>\n      <td>3.31</td>\n      <td>35.82</td>\n    </tr>\n    <tr>\n      <th>3</th>\n      <td>11009</td>\n      <td>26</td>\n      <td>2009.0</td>\n      <td>10</td>\n      <td>359</td>\n      <td>15.75</td>\n      <td>11.01</td>\n      <td>3.28</td>\n      <td>2.96</td>\n      <td>33.00</td>\n    </tr>\n    <tr>\n      <th>4</th>\n      <td>7346</td>\n      <td>5</td>\n      <td>1996.0</td>\n      <td>7</td>\n      <td>359</td>\n      <td>11.27</td>\n      <td>8.89</td>\n      <td>10.22</td>\n      <td>1.00</td>\n      <td>31.37</td>\n    </tr>\n    <tr>\n      <th>...</th>\n      <td>...</td>\n      <td>...</td>\n      <td>...</td>\n      <td>...</td>\n      <td>...</td>\n      <td>...</td>\n      <td>...</td>\n      <td>...</td>\n      <td>...</td>\n      <td>...</td>\n    </tr>\n    <tr>\n      <th>16593</th>\n      <td>11101</td>\n      <td>6</td>\n      <td>2002.0</td>\n      <td>4</td>\n      <td>269</td>\n      <td>0.01</td>\n      <td>0.00</td>\n      <td>0.00</td>\n      <td>0.00</td>\n      <td>0.01</td>\n    </tr>\n    <tr>\n      <th>16594</th>\n      <td>5796</td>\n      <td>7</td>\n      <td>2003.0</td>\n      <td>8</td>\n      <td>241</td>\n      <td>0.01</td>\n      <td>0.00</td>\n      <td>0.00</td>\n      <td>0.00</td>\n      <td>0.01</td>\n    </tr>\n    <tr>\n      <th>16595</th>\n      <td>8144</td>\n      <td>16</td>\n      <td>2008.0</td>\n      <td>6</td>\n      <td>21</td>\n      <td>0.00</td>\n      <td>0.00</td>\n      <td>0.00</td>\n      <td>0.00</td>\n      <td>0.01</td>\n    </tr>\n    <tr>\n      <th>16596</th>\n      <td>5014</td>\n      <td>4</td>\n      <td>2010.0</td>\n      <td>5</td>\n      <td>8</td>\n      <td>0.00</td>\n      <td>0.01</td>\n      <td>0.00</td>\n      <td>0.00</td>\n      <td>0.01</td>\n    </tr>\n    <tr>\n      <th>16597</th>\n      <td>8967</td>\n      <td>6</td>\n      <td>2003.0</td>\n      <td>4</td>\n      <td>546</td>\n      <td>0.01</td>\n      <td>0.00</td>\n      <td>0.00</td>\n      <td>0.00</td>\n      <td>0.01</td>\n    </tr>\n  </tbody>\n</table>\n<p>16598 rows × 10 columns</p>\n</div>"
     },
     "metadata": {},
     "execution_count": 7
    }
   ],
   "source": [
    "from sklearn import svm\n",
    "from sklearn import model_selection as md\n",
    "from sklearn.pipeline import make_pipeline\n",
    "from sklearn.preprocessing import StandardScaler\n",
    "import itertools as it\n",
    "\n",
    "#这是接下来要预测的sales的名称\n",
    "sales_l = [\"NA_Sales\",\"EU_Sales\",\"JP_Sales\",\"Other_Sales\",\"Global_Sales\"]\n",
    "\n",
    "#每次选中一列后就把剩余列作为参数\n",
    "#但是要把对应文字转为整数\n",
    "change_l = [\"Name\",\"Platform\",\"Genre\",\"Publisher\"]\n",
    "for c in change_l:\n",
    "    vg_s = vgData.loc[:,c]\n",
    "    g = it.groupby(vg_s.sort_values())\n",
    "    l = [v for v, _ in g]\n",
    "    for i, v in enumerate(l):\n",
    "        vgData.loc[vgData.loc[:,c]==v,c] = i\n",
    "vgData"
   ]
  },
  {
   "cell_type": "code",
   "execution_count": 8,
   "metadata": {},
   "outputs": [],
   "source": [
    "#使用两折交叉验证\n",
    "#这里以Global sales为例\n",
    "kf = md.KFold(n_splits=2,shuffle=True)\n",
    "\n",
    "selected = 9\n",
    "\n",
    "mark = [True] * 10\n",
    "mark[selected] = False\n",
    "\n",
    "#简单处理下数据\n",
    "for train_index, test_index in kf.split(vgData.loc[:,mark],vgData.iloc[:,selected]):\n",
    "    vg_train = vgData.loc[train_index,mark]\n",
    "    y_train = vgData.iloc[train_index,selected]\n",
    "    vg_test = vgData.iloc[test_index,mark]\n",
    "    y_test = vgData.iloc[test_index,selected]\n",
    "\n",
    "vg_train.fillna(0,inplace=True)"
   ]
  },
  {
   "cell_type": "code",
   "execution_count": 9,
   "metadata": {},
   "outputs": [],
   "source": [
    "y_train.fillna(0,inplace=True)"
   ]
  },
  {
   "cell_type": "code",
   "execution_count": 10,
   "metadata": {},
   "outputs": [],
   "source": [
    "y_test.fillna(0,inplace=True)\n",
    "vg_test.fillna(0,inplace=True)"
   ]
  },
  {
   "cell_type": "code",
   "execution_count": 11,
   "metadata": {},
   "outputs": [],
   "source": [
    "#把数据化为ndarray格式\n",
    "X_train = vg_train.to_numpy(np.float32)\n",
    "X_test = vg_test.to_numpy(np.float32)\n",
    "y = y_train.to_numpy(np.float32)"
   ]
  },
  {
   "cell_type": "code",
   "execution_count": 12,
   "metadata": {},
   "outputs": [],
   "source": [
    "#建立回归模型\n",
    "regr = make_pipeline(StandardScaler(),svm.SVR(C=1.0,epsilon=0.2))\n",
    "model = regr.fit(X_train,y)\n",
    "y_prd = model.predict(X_test)"
   ]
  },
  {
   "cell_type": "code",
   "execution_count": 13,
   "metadata": {},
   "outputs": [
    {
     "output_type": "execute_result",
     "data": {
      "text/plain": "array([ 4.42421137,  4.4889375 ,  4.42421179, ..., -0.01686584,\n       -0.0251724 , -0.03936957])"
     },
     "metadata": {},
     "execution_count": 13
    }
   ],
   "source": [
    "y_prd"
   ]
  },
  {
   "cell_type": "code",
   "execution_count": 14,
   "metadata": {},
   "outputs": [
    {
     "output_type": "execute_result",
     "data": {
      "text/plain": "0        82.74\n2        35.82\n5        30.26\n7        29.02\n9        28.31\n         ...  \n16587     0.01\n16590     0.01\n16592     0.01\n16593     0.01\n16595     0.01\nName: Global_Sales, Length: 8299, dtype: float64"
     },
     "metadata": {},
     "execution_count": 14
    }
   ],
   "source": [
    "y_test"
   ]
  }
 ],
 "metadata": {
  "language_info": {
   "codemirror_mode": {
    "name": "ipython",
    "version": 3
   },
   "file_extension": ".py",
   "mimetype": "text/x-python",
   "name": "python",
   "nbconvert_exporter": "python",
   "pygments_lexer": "ipython3",
   "version": "3.7.7-final"
  },
  "orig_nbformat": 2,
  "kernelspec": {
   "name": "python37764bitpy37condaa4c9f21bbfca45e79a5ddfd9787ad669",
   "display_name": "Python 3.7.7 64-bit ('py37': conda)"
  }
 },
 "nbformat": 4,
 "nbformat_minor": 2
}